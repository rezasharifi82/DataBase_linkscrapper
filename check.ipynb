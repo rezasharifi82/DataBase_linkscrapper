{
 "cells": [
  {
   "cell_type": "code",
   "execution_count": 80,
   "metadata": {},
   "outputs": [],
   "source": [
    "from selenium import webdriver as webdriver\n",
    "from selenium.webdriver.firefox.service import Service\n",
    "from selenium.webdriver.firefox.options import Options\n",
    "from selenium.webdriver.common.by import By\n",
    "from selenium.webdriver.common.keys import Keys\n",
    "# from selenium.webdriver.common.by import By\n",
    "from selenium.webdriver.support.ui import WebDriverWait\n",
    "from selenium.webdriver.support import expected_conditions as EC\n",
    "import time,os"
   ]
  },
  {
   "cell_type": "code",
   "execution_count": 284,
   "metadata": {},
   "outputs": [],
   "source": [
    "\n",
    "\n",
    "\n",
    "user_agent=\"Mozilla/5.0 (Windows NT 10.0; Win64; x64; rv:109.0) Gecko/20100101 Firefox/115.0\"\n",
    "firefox_driver=(\"F:\\edgedriver_win64\\geckodriver.exe\")\n",
    "firefox_service=Service(firefox_driver)\n",
    "firefox_options=Options()\n",
    "firefox_options.set_preference('general.useragent.override',user_agent)\n",
    "browser=webdriver.Firefox(service=firefox_service,options=firefox_options)\n",
    "browser.get(\"https://vu.um.ac.ir/login/index.php\")\n",
    "username=\"\"\n",
    "password=\"\"\n",
    "browser.find_element(\"id\",\"username\").send_keys(username)\n",
    "browser.find_element(\"id\",\"password\").send_keys(password)\n",
    "browser.find_element(\"id\",\"loginbtn\").click()\n",
    "browser.get(\"https://vu.um.ac.ir/course/view.php?id=19410\")\n",
    "ss=browser.find_elements(By.PARTIAL_LINK_TEXT,\"ویدئو\")\n",
    "# print(ss)\n",
    "# for i in ss:\n",
    "    # print(i)\n",
    "\n",
    "\n",
    "# ss[1].click()\n",
    "\n",
    "# jj=[]\n",
    "# alpha_render=[]\n",
    "# for i in ss:\n",
    "#     if(\"ویدئو\" in i.text):\n",
    "#         if(\"هفته\" not in i.text):\n",
    "#             jj.append(i)\n",
    "#         else:\n",
    "#             alpha_render.append(len(jj))\n",
    "# jj=jj[1:]\n",
    "# test=jj[:2]\n",
    "# beta=[]\n",
    "# for k in test:\n",
    "#     k.click()\n",
    "#     # beta.append(r)\n",
    "#     # browser.execute_script(\"window.open('');\")\n",
    "# browser.find_element(By.PARTIAL_LINK_TEXT,\"ویدئو\").click()\n"
   ]
  },
  {
   "cell_type": "code",
   "execution_count": 258,
   "metadata": {},
   "outputs": [
    {
     "name": "stdout",
     "output_type": "stream",
     "text": [
      "ویدئوی مقدمه ای بر درس\n",
      "پیوند\n",
      "ویدئو مقدمه ای بر پایگاه های داده - مقدمه\n",
      "پیوند\n",
      "ویدئو مقدمه ای بر پایگاه های داده - وظایف DBMS\n",
      "پیوند\n",
      "ویدئو مقدمه ای بر پایگاه های داده - معماری DBMS\n",
      "پیوند\n",
      "ویدئو مقدمه ای بر پایگاه های داده - تاریخچه DBMS\n",
      "پیوند\n",
      "ویدئو مقدمه ای بر پایگاه های داده - کاربران DBMS\n",
      "پیوند\n",
      "ویدئو مقدمه ای بر پایگاه های داده - دیدگاه درس DBMS\n",
      "پیوند\n",
      "ویدئو مدل موجودیت رابطه - مراحل طراحی\n",
      "پیوند\n",
      "ویدئو مدل موجودیت رابطه - طراحی ER-1\n",
      "پیوند\n",
      "ویدئو مدل موجودیت رابطه - طراحی ER-2\n",
      "پیوند\n",
      "ویدئو مدل موجودیت رابطه - طراحی ER-3\n",
      "پیوند\n",
      "ویدئو مدل موجودیت رابطه - روابط چندگانه در ER\n",
      "پیوند\n",
      "ویدئو مدل موجودیت رابطه - خلاصه مدل ER\n",
      "پیوند\n",
      "ویدئو مدل موجودیت رابطه - مدل ER گسترش یافته\n",
      "پیوند\n",
      "ویدئو مدل موجودیت رابطه - چالش های مدل ER\n",
      "پیوند\n",
      "ویدئو مدل موجودیت رابطه - دام های مدل ER\n",
      "پیوند\n",
      "ویدئو مدل موجودیت رابطه - روش نمایش Crow’s Foot\n",
      "پیوند\n",
      "ویدئو مثال از مدلسازی موجودیت رابطه\n",
      "پیوند\n",
      "ویدئو طراحی پایگاه داده - مراحل طراحی\n",
      "پیوند\n",
      "ویدئو طراحی پایگاه داده - نگاشت موجودیت ها\n",
      "پیوند\n",
      "ویدئو طراحی پایگاه داده - نگاشت روابط دوگانه\n",
      "پیوند\n",
      "ویدئو طراحی پایگاه داده - نگاشت صفات و روابط چندگانه\n",
      "پیوند\n",
      "ویدئو طراحی پایگاه داده - نگاشت مدل ER گسترش یافته\n",
      "پیوند\n",
      "ویدئو طراحی پایگاه داده - تبدیلات پیشرفته تر\n",
      "پیوند\n",
      "ویدئو مثال از طراحی رابطه ها\n",
      "پیوند\n",
      "ویدئو جبر رابطه‌ای- مفاهیم اولیه\n",
      "پیوند\n",
      "ویدئو جبر رابطه‌ای- عملگرهای ساده\n",
      "پیوند\n",
      "ویدئو جبر رابطه‌ای- عملگرهای الحاقی\n",
      "پیوند\n",
      "ویدئو جبر رابطه‌ای- ساخت عبارات\n",
      "پیوند\n",
      "ویدئو جبر رابطه‌ای- عملگرهای تجمعی\n",
      "پیوند\n",
      "ویدئو جبر رابطه‌ای- bag و set\n",
      "پیوند\n",
      "ویدئو مثال از جبر رابطه ای\n",
      "پیوند\n",
      "ویدئو زبان SQL- مفاهیم اولیه\n",
      "پیوند\n",
      "ویدئو زبان SQL- زبان تعریف داده‌ها\n",
      "پیوند\n",
      "ویدئو زبان SQL- پرس و جوی مقدماتی\n",
      "پیوند\n",
      "ویدئو زبان SQL- پرس و جوی چند جدولی\n",
      "پیوند\n",
      "ویدئو زبان SQL- پرس و جوی پیشرفته تر\n",
      "پیوند\n",
      "ویدئو زبان SQL- عملیات مجموعه ای\n",
      "پیوند\n",
      "ویدئو زبان SQL- توابع تجمعی\n",
      "پیوند\n",
      "ویدئو زبان SQL- منطق 3 مقداری\n",
      "پیوند\n",
      "ویدئو زبان SQL- پرس و جوی تودرتو1\n",
      "پیوند\n",
      "ویدئو زبان SQL- پرس و جوی تودرتو2\n",
      "پیوند\n",
      "ویدئو زبان SQL- پرس و جوی تودرتو3\n",
      "پیوند\n",
      "ویدئو زبان SQL- تغییر در پایگاه داده\n",
      "پیوند\n",
      "ویدئو قیود و تریگرها-مفاهیم اولیه\n",
      "پیوند\n",
      "ویدئو قیود و تریگرها-کلید خارجی\n",
      "پیوند\n",
      "ویدئو قیود و تریگرها-تست ها\n",
      "پیوند\n",
      "ویدئو قیود و تریگرها-اظهارات\n",
      "پیوند\n",
      "ویدئو قیود و تریگرها-تریگرها\n",
      "پیوند\n",
      "ویدئو دیدها-اصول کلی\n",
      "پیوند\n",
      "ویدئو دیدها-دید های ساخته شده\n",
      "پیوند\n",
      "ویدئو دیدها-دید در تریگرها\n",
      "پیوند\n",
      "ویدئو وابستگی‌های تابعی و نرمال‌سازی-مفاهیم اولیه\n",
      "پیوند\n",
      "ویدئو وابستگی‌های تابعی و نرمال‌سازی-وابستگی تابعی\n",
      "پیوند\n",
      "ویدئو وابستگی‌های تابعی و نرمال‌سازی-نرمال سازی 1\n",
      "پیوند\n",
      "ویدئو وابستگی‌های تابعی و نرمال‌سازی-نرمال سازی 2\n",
      "پیوند\n",
      "ویدئو وابستگی‌های تابعی و نرمال‌سازی-نرمال سازی BCNF\n",
      "پیوند\n",
      "ویدئو ذخیره سازی- مفاهیم اولیه\n",
      "پیوند\n",
      "ویدئو ذخیره سازی- مدیریت فضای دیسک\n",
      "پیوند\n",
      "ویدئو ذخیره سازی- وسایل ذخیره سازی فیزیکی\n",
      "پیوند\n",
      "ویدئو ذخیره سازی- RAID\n",
      "پیوند\n",
      "ویدئو تراکنش ها -اصول کلی\n",
      "پیوند\n",
      "ویدئو تراکنش ها -نحوه کار\n",
      "پیوند\n",
      "ویدئو تراکنش ها -سطوح انزوا\n",
      "پیوند\n",
      "ویدئو امنیت - مقدمه\n",
      "پیوند\n",
      "ویدئو امنیت - مجوزهای دسترسی در SQL\n",
      "پیوند\n",
      "ویدئو امنیت - تزریق SQL\n",
      "پیوند\n"
     ]
    }
   ],
   "source": [
    "for k in ss:\n",
    "    # print(\"---------\")\n",
    "    # print(k.text)\n",
    "    print(k.text)"
   ]
  },
  {
   "cell_type": "code",
   "execution_count": 266,
   "metadata": {},
   "outputs": [
    {
     "data": {
      "text/plain": [
       "67"
      ]
     },
     "execution_count": 266,
     "metadata": {},
     "output_type": "execute_result"
    }
   ],
   "source": [
    "len(ss)"
   ]
  },
  {
   "cell_type": "code",
   "execution_count": 207,
   "metadata": {},
   "outputs": [],
   "source": [
    "cc=test[0].get_attribute('href')\n",
    "browser.execute_script(f\"window.open('{cc}','_blank');\")\n",
    "browser.switch_to.window(browser.window_handles[-1])\n",
    "\n",
    "# browser.execute_script(f\"window.close();\")\n",
    "browser.find_element(By.PARTIAL_LINK_TEXT,\"fum\").text\n",
    "# browser.close()\n",
    "browser.switch_to.window(browser.window_handles[-1])"
   ]
  },
  {
   "cell_type": "code",
   "execution_count": 209,
   "metadata": {},
   "outputs": [],
   "source": [
    "browser.close()\n",
    "browser.switch_to.window(browser.window_handles[0])"
   ]
  },
  {
   "cell_type": "code",
   "execution_count": 273,
   "metadata": {},
   "outputs": [],
   "source": [
    "def link_grabber(links:list):\n",
    "    bb=[]\n",
    "    for i in links:\n",
    "            browser.switch_to.window(browser.window_handles[0])\n",
    "            cc=i.get_attribute('href')\n",
    "            browser.execute_script(f\"window.open('{cc}','_blank');\")\n",
    "            time.sleep(1)\n",
    "            browser.switch_to.window(browser.window_handles[-1])\n",
    "            time.sleep(1)\n",
    "            omega=browser.find_element(By.PARTIAL_LINK_TEXT,\"fum\").text\n",
    "            bb.append(omega)\n",
    "            browser.close()\n",
    "    return bb"
   ]
  },
  {
   "cell_type": "code",
   "execution_count": 277,
   "metadata": {},
   "outputs": [],
   "source": [
    "ioi=link_grabber(ss)"
   ]
  },
  {
   "cell_type": "code",
   "execution_count": 275,
   "metadata": {},
   "outputs": [
    {
     "data": {
      "text/plain": [
       "['https://fumdrive.um.ac.ir/index.php/s/Cp7BNQPtdZgc8Qe',\n",
       " 'https://fumdrive.um.ac.ir/index.php/s/WPSFHKrb55WEgib',\n",
       " 'https://fumdrive.um.ac.ir/index.php/s/6HApmDktXJ67BnF',\n",
       " 'https://fumdrive.um.ac.ir/index.php/s/sjTt5o9Tzb8X4cX',\n",
       " 'https://fumdrive.um.ac.ir/index.php/s/ZnbygjgBMKQbmAw',\n",
       " 'https://fumdrive.um.ac.ir/index.php/s/emgmPREzXwAgjDz',\n",
       " 'https://fumdrive.um.ac.ir/index.php/s/soFx8nL9NLtxp7Y',\n",
       " 'https://fumdrive.um.ac.ir/index.php/s/m3RxM5LT9ESes8c',\n",
       " 'https://fumdrive.um.ac.ir/index.php/s/K3i3Ha4SgR7W4sc',\n",
       " 'https://fumdrive.um.ac.ir/index.php/s/TtpS4E2c7daHDmH',\n",
       " 'https://fumdrive.um.ac.ir/index.php/s/mNz6MpprJ7wHM5F',\n",
       " 'https://fumdrive.um.ac.ir/index.php/s/fgoFMY9wsH3nFiY',\n",
       " 'https://fumdrive.um.ac.ir/index.php/s/ycYdAXGZNgjoHSm',\n",
       " 'https://fumdrive.um.ac.ir/index.php/s/nmcFoHBLkRyNkBc',\n",
       " 'https://fumdrive.um.ac.ir/index.php/s/ctZnzzyXdtFHzKL',\n",
       " 'https://fumdrive.um.ac.ir/index.php/s/KGK5o6c6xBdyya3',\n",
       " 'https://fumdrive.um.ac.ir/index.php/s/XskxrX2YGePiWFK',\n",
       " 'https://fumdrive.um.ac.ir/index.php/s/g54NmTQnNJyMy2S',\n",
       " 'https://fumdrive.um.ac.ir/index.php/s/9LT2tmsg2fJ52wa',\n",
       " 'https://fumdrive.um.ac.ir/index.php/s/MP9fxdbpT86aqRX',\n",
       " 'https://fumdrive.um.ac.ir/index.php/s/4NpkyT8FryH2YSo',\n",
       " 'https://fumdrive.um.ac.ir/index.php/s/Gn2ixZTariKrY2E',\n",
       " 'https://fumdrive.um.ac.ir/index.php/s/ZHP2Wi98RQSieBz',\n",
       " 'https://fumdrive.um.ac.ir/index.php/s/NpzqQcbCfQeW5QX',\n",
       " 'https://fumdrive.um.ac.ir/index.php/s/4MoZdjJEKdpQ8ts',\n",
       " 'https://fumdrive.um.ac.ir/index.php/s/SXpfFQLGPenC2gS',\n",
       " 'https://fumdrive.um.ac.ir/index.php/s/rtpnKTs4jwPtME8',\n",
       " 'https://fumdrive.um.ac.ir/index.php/s/3FqHw8fopp8Rnfr',\n",
       " 'https://fumdrive.um.ac.ir/index.php/s/3f9obq63naSWQE4',\n",
       " 'https://fumdrive.um.ac.ir/index.php/s/tH94RcYE5FLnsmJ',\n",
       " 'https://fumdrive.um.ac.ir/index.php/s/SLRw6pwi3zTDs4i',\n",
       " 'https://fumdrive.um.ac.ir/index.php/s/SmFm2dZTntDbyaG',\n",
       " 'https://fumdrive.um.ac.ir/index.php/s/WZSgXDi72WSKr8B',\n",
       " 'https://fumdrive.um.ac.ir/index.php/s/4WWT3ZgfJd9pGFA',\n",
       " 'https://fumdrive.um.ac.ir/index.php/s/gkbcSp4zXy5RbaG',\n",
       " 'https://fumdrive.um.ac.ir/index.php/s/8nJJjbKgKHCgewg',\n",
       " 'https://fumdrive.um.ac.ir/index.php/s/FCpiJKAWbKWtxLT',\n",
       " 'https://fumdrive.um.ac.ir/index.php/s/7mg8CJegCC4E6Hr',\n",
       " 'https://fumdrive.um.ac.ir/index.php/s/bwtwryQEt7JkkC2',\n",
       " 'https://fumdrive.um.ac.ir/index.php/s/gSkMfF9KjLzrXzg',\n",
       " 'https://fumdrive.um.ac.ir/index.php/s/9kt5d6667JiqbzX',\n",
       " 'https://fumdrive.um.ac.ir/index.php/s/wPfnG3N7rH9Z8W2',\n",
       " 'https://fumdrive.um.ac.ir/index.php/s/oj9pXnwXbWQPbLb',\n",
       " 'https://fumdrive.um.ac.ir/index.php/s/Apcs6K63g4yGGW5',\n",
       " 'https://fumdrive.um.ac.ir/index.php/s/djjeFdW22je2wDk',\n",
       " 'https://fumdrive.um.ac.ir/index.php/s/JZkKdcXRRedSWmb',\n",
       " 'https://fumdrive.um.ac.ir/index.php/s/btYF8ps8DTPHr4S',\n",
       " 'https://fumdrive.um.ac.ir/index.php/s/BeCtDs9p6yHHtWo',\n",
       " 'https://fumdrive.um.ac.ir/index.php/s/S2EA3W6ZwWrrfoa',\n",
       " 'https://fumdrive.um.ac.ir/index.php/s/enaTpBokGHTBe5B',\n",
       " 'https://fumdrive.um.ac.ir/index.php/s/zFp2CRxsGmJf2fb',\n",
       " 'https://fumdrive.um.ac.ir/index.php/s/sKRTZQddyLKpYnE',\n",
       " 'https://fumdrive.um.ac.ir/index.php/s/TN8RZb4pjfAHfny',\n",
       " 'https://fumdrive.um.ac.ir/index.php/s/Sz9DeJsAo7sDknZ',\n",
       " 'https://fumdrive.um.ac.ir/index.php/s/w9Q4jZkmrHbEdXj',\n",
       " 'https://fumdrive.um.ac.ir/index.php/s/pZJScACGgEr9oKE',\n",
       " 'https://fumdrive.um.ac.ir/index.php/s/fCyXF2RSLNxfbwp',\n",
       " 'https://fumdrive.um.ac.ir/index.php/s/pQDWdeJATM8NGLw',\n",
       " 'https://fumdrive.um.ac.ir/index.php/s/RkEcT3AEtL2WX4F',\n",
       " 'https://fumdrive.um.ac.ir/index.php/s/5NwNMYHdbSCZptQ',\n",
       " 'https://fumdrive.um.ac.ir/index.php/s/oRr5jx8WsTSKmnQ',\n",
       " 'https://fumdrive.um.ac.ir/index.php/s/Qsw2qyj3L5qdbyM',\n",
       " 'https://fumdrive.um.ac.ir/index.php/s/rbi9YSnKqP7beCF',\n",
       " 'https://fumdrive.um.ac.ir/index.php/s/DAewDGiZQ5Cry7Q',\n",
       " 'https://fumdrive.um.ac.ir/index.php/s/dEaz4PCPSHpJqyT',\n",
       " 'https://fumdrive.um.ac.ir/index.php/s/PLgQpSnkRoo29F2',\n",
       " 'https://fumdrive.um.ac.ir/index.php/s/PXsSK28s6oBN4qN']"
      ]
     },
     "execution_count": 275,
     "metadata": {},
     "output_type": "execute_result"
    }
   ],
   "source": [
    "ioi"
   ]
  },
  {
   "cell_type": "code",
   "execution_count": 278,
   "metadata": {},
   "outputs": [
    {
     "data": {
      "text/plain": [
       "67"
      ]
     },
     "execution_count": 278,
     "metadata": {},
     "output_type": "execute_result"
    }
   ],
   "source": [
    "len(ioi)"
   ]
  },
  {
   "cell_type": "code",
   "execution_count": 279,
   "metadata": {},
   "outputs": [],
   "source": [
    "dod=ioi.copy()"
   ]
  },
  {
   "cell_type": "code",
   "execution_count": 308,
   "metadata": {},
   "outputs": [],
   "source": [
    "i=open(\"links.txt\",\"w+\")\n",
    "for j in dod:\n",
    "    i.write(str(j)+'\\n')"
   ]
  },
  {
   "cell_type": "code",
   "execution_count": 293,
   "metadata": {},
   "outputs": [],
   "source": [
    "l=browser.find_elements(By.TAG_NAME,\"li\")"
   ]
  },
  {
   "cell_type": "code",
   "execution_count": 299,
   "metadata": {},
   "outputs": [
    {
     "name": "stdout",
     "output_type": "stream",
     "text": [
      "80\n"
     ]
    }
   ],
   "source": [
    "ooo=[]\n",
    "for j in l:\n",
    "    if \"ویدئو\" in j.text:\n",
    "        ooo.append(j)\n",
    "\n",
    "l=ooo.copy()\n",
    "print(len(l))"
   ]
  },
  {
   "cell_type": "code",
   "execution_count": 303,
   "metadata": {},
   "outputs": [],
   "source": [
    "c=0\n",
    "pop=[]\n",
    "for i in l:\n",
    "    c+=1\n",
    "    if (\"هفته\" in i.text):\n",
    "        pop.append(c-2)\n",
    "    \n"
   ]
  },
  {
   "cell_type": "code",
   "execution_count": 304,
   "metadata": {},
   "outputs": [
    {
     "data": {
      "text/plain": [
       "[1, 8, 15, 21, 29, 37, 42, 47, 52, 61, 67, 75]"
      ]
     },
     "execution_count": 304,
     "metadata": {},
     "output_type": "execute_result"
    }
   ],
   "source": [
    "pop"
   ]
  },
  {
   "cell_type": "code",
   "execution_count": 298,
   "metadata": {},
   "outputs": [
    {
     "data": {
      "text/plain": [
       "['https://fumdrive.um.ac.ir/index.php/s/Cp7BNQPtdZgc8Qe',\n",
       " 'https://fumdrive.um.ac.ir/index.php/s/WPSFHKrb55WEgib',\n",
       " 'https://fumdrive.um.ac.ir/index.php/s/6HApmDktXJ67BnF',\n",
       " 'https://fumdrive.um.ac.ir/index.php/s/sjTt5o9Tzb8X4cX',\n",
       " 'https://fumdrive.um.ac.ir/index.php/s/ZnbygjgBMKQbmAw',\n",
       " 'https://fumdrive.um.ac.ir/index.php/s/emgmPREzXwAgjDz',\n",
       " 'https://fumdrive.um.ac.ir/index.php/s/soFx8nL9NLtxp7Y',\n",
       " 'https://fumdrive.um.ac.ir/index.php/s/m3RxM5LT9ESes8c',\n",
       " 'https://fumdrive.um.ac.ir/index.php/s/K3i3Ha4SgR7W4sc',\n",
       " 'https://fumdrive.um.ac.ir/index.php/s/TtpS4E2c7daHDmH',\n",
       " 'https://fumdrive.um.ac.ir/index.php/s/mNz6MpprJ7wHM5F',\n",
       " 'https://fumdrive.um.ac.ir/index.php/s/fgoFMY9wsH3nFiY',\n",
       " 'https://fumdrive.um.ac.ir/index.php/s/ycYdAXGZNgjoHSm',\n",
       " 'https://fumdrive.um.ac.ir/index.php/s/nmcFoHBLkRyNkBc',\n",
       " 'https://fumdrive.um.ac.ir/index.php/s/ctZnzzyXdtFHzKL',\n",
       " 'https://fumdrive.um.ac.ir/index.php/s/KGK5o6c6xBdyya3',\n",
       " 'https://fumdrive.um.ac.ir/index.php/s/XskxrX2YGePiWFK',\n",
       " 'https://fumdrive.um.ac.ir/index.php/s/g54NmTQnNJyMy2S',\n",
       " 'https://fumdrive.um.ac.ir/index.php/s/9LT2tmsg2fJ52wa',\n",
       " 'https://fumdrive.um.ac.ir/index.php/s/MP9fxdbpT86aqRX',\n",
       " 'https://fumdrive.um.ac.ir/index.php/s/4NpkyT8FryH2YSo',\n",
       " 'https://fumdrive.um.ac.ir/index.php/s/Gn2ixZTariKrY2E',\n",
       " 'https://fumdrive.um.ac.ir/index.php/s/ZHP2Wi98RQSieBz',\n",
       " 'https://fumdrive.um.ac.ir/index.php/s/NpzqQcbCfQeW5QX',\n",
       " 'https://fumdrive.um.ac.ir/index.php/s/4MoZdjJEKdpQ8ts',\n",
       " 'https://fumdrive.um.ac.ir/index.php/s/SXpfFQLGPenC2gS',\n",
       " 'https://fumdrive.um.ac.ir/index.php/s/rtpnKTs4jwPtME8',\n",
       " 'https://fumdrive.um.ac.ir/index.php/s/3FqHw8fopp8Rnfr',\n",
       " 'https://fumdrive.um.ac.ir/index.php/s/3f9obq63naSWQE4',\n",
       " 'https://fumdrive.um.ac.ir/index.php/s/tH94RcYE5FLnsmJ',\n",
       " 'https://fumdrive.um.ac.ir/index.php/s/SLRw6pwi3zTDs4i',\n",
       " 'https://fumdrive.um.ac.ir/index.php/s/SmFm2dZTntDbyaG',\n",
       " 'https://fumdrive.um.ac.ir/index.php/s/WZSgXDi72WSKr8B',\n",
       " 'https://fumdrive.um.ac.ir/index.php/s/4WWT3ZgfJd9pGFA',\n",
       " 'https://fumdrive.um.ac.ir/index.php/s/gkbcSp4zXy5RbaG',\n",
       " 'https://fumdrive.um.ac.ir/index.php/s/8nJJjbKgKHCgewg',\n",
       " 'https://fumdrive.um.ac.ir/index.php/s/FCpiJKAWbKWtxLT',\n",
       " 'https://fumdrive.um.ac.ir/index.php/s/7mg8CJegCC4E6Hr',\n",
       " 'https://fumdrive.um.ac.ir/index.php/s/bwtwryQEt7JkkC2',\n",
       " 'https://fumdrive.um.ac.ir/index.php/s/gSkMfF9KjLzrXzg',\n",
       " 'https://fumdrive.um.ac.ir/index.php/s/9kt5d6667JiqbzX',\n",
       " 'https://fumdrive.um.ac.ir/index.php/s/wPfnG3N7rH9Z8W2',\n",
       " 'https://fumdrive.um.ac.ir/index.php/s/oj9pXnwXbWQPbLb',\n",
       " 'https://fumdrive.um.ac.ir/index.php/s/Apcs6K63g4yGGW5',\n",
       " 'https://fumdrive.um.ac.ir/index.php/s/djjeFdW22je2wDk',\n",
       " 'https://fumdrive.um.ac.ir/index.php/s/JZkKdcXRRedSWmb',\n",
       " 'https://fumdrive.um.ac.ir/index.php/s/btYF8ps8DTPHr4S',\n",
       " 'https://fumdrive.um.ac.ir/index.php/s/BeCtDs9p6yHHtWo',\n",
       " 'https://fumdrive.um.ac.ir/index.php/s/S2EA3W6ZwWrrfoa',\n",
       " 'https://fumdrive.um.ac.ir/index.php/s/enaTpBokGHTBe5B',\n",
       " 'https://fumdrive.um.ac.ir/index.php/s/zFp2CRxsGmJf2fb',\n",
       " 'https://fumdrive.um.ac.ir/index.php/s/sKRTZQddyLKpYnE',\n",
       " 'https://fumdrive.um.ac.ir/index.php/s/TN8RZb4pjfAHfny',\n",
       " 'https://fumdrive.um.ac.ir/index.php/s/Sz9DeJsAo7sDknZ',\n",
       " 'https://fumdrive.um.ac.ir/index.php/s/w9Q4jZkmrHbEdXj',\n",
       " 'https://fumdrive.um.ac.ir/index.php/s/pZJScACGgEr9oKE',\n",
       " 'https://fumdrive.um.ac.ir/index.php/s/fCyXF2RSLNxfbwp',\n",
       " 'https://fumdrive.um.ac.ir/index.php/s/pQDWdeJATM8NGLw',\n",
       " 'https://fumdrive.um.ac.ir/index.php/s/RkEcT3AEtL2WX4F',\n",
       " 'https://fumdrive.um.ac.ir/index.php/s/5NwNMYHdbSCZptQ',\n",
       " 'https://fumdrive.um.ac.ir/index.php/s/oRr5jx8WsTSKmnQ',\n",
       " 'https://fumdrive.um.ac.ir/index.php/s/Qsw2qyj3L5qdbyM',\n",
       " 'https://fumdrive.um.ac.ir/index.php/s/rbi9YSnKqP7beCF',\n",
       " 'https://fumdrive.um.ac.ir/index.php/s/DAewDGiZQ5Cry7Q',\n",
       " 'https://fumdrive.um.ac.ir/index.php/s/dEaz4PCPSHpJqyT',\n",
       " 'https://fumdrive.um.ac.ir/index.php/s/PLgQpSnkRoo29F2',\n",
       " 'https://fumdrive.um.ac.ir/index.php/s/PXsSK28s6oBN4qN']"
      ]
     },
     "execution_count": 298,
     "metadata": {},
     "output_type": "execute_result"
    }
   ],
   "source": [
    "dod"
   ]
  },
  {
   "cell_type": "code",
   "execution_count": 305,
   "metadata": {},
   "outputs": [],
   "source": [
    "for i in pop:\n",
    "    dod.insert(i,\"-----------\")"
   ]
  },
  {
   "cell_type": "code",
   "execution_count": 306,
   "metadata": {},
   "outputs": [
    {
     "data": {
      "text/plain": [
       "['https://fumdrive.um.ac.ir/index.php/s/Cp7BNQPtdZgc8Qe',\n",
       " '-----------',\n",
       " 'https://fumdrive.um.ac.ir/index.php/s/WPSFHKrb55WEgib',\n",
       " 'https://fumdrive.um.ac.ir/index.php/s/6HApmDktXJ67BnF',\n",
       " 'https://fumdrive.um.ac.ir/index.php/s/sjTt5o9Tzb8X4cX',\n",
       " 'https://fumdrive.um.ac.ir/index.php/s/ZnbygjgBMKQbmAw',\n",
       " 'https://fumdrive.um.ac.ir/index.php/s/emgmPREzXwAgjDz',\n",
       " 'https://fumdrive.um.ac.ir/index.php/s/soFx8nL9NLtxp7Y',\n",
       " '-----------',\n",
       " 'https://fumdrive.um.ac.ir/index.php/s/m3RxM5LT9ESes8c',\n",
       " 'https://fumdrive.um.ac.ir/index.php/s/K3i3Ha4SgR7W4sc',\n",
       " 'https://fumdrive.um.ac.ir/index.php/s/TtpS4E2c7daHDmH',\n",
       " 'https://fumdrive.um.ac.ir/index.php/s/mNz6MpprJ7wHM5F',\n",
       " 'https://fumdrive.um.ac.ir/index.php/s/fgoFMY9wsH3nFiY',\n",
       " 'https://fumdrive.um.ac.ir/index.php/s/ycYdAXGZNgjoHSm',\n",
       " '-----------',\n",
       " 'https://fumdrive.um.ac.ir/index.php/s/nmcFoHBLkRyNkBc',\n",
       " 'https://fumdrive.um.ac.ir/index.php/s/ctZnzzyXdtFHzKL',\n",
       " 'https://fumdrive.um.ac.ir/index.php/s/KGK5o6c6xBdyya3',\n",
       " 'https://fumdrive.um.ac.ir/index.php/s/XskxrX2YGePiWFK',\n",
       " 'https://fumdrive.um.ac.ir/index.php/s/g54NmTQnNJyMy2S',\n",
       " '-----------',\n",
       " 'https://fumdrive.um.ac.ir/index.php/s/9LT2tmsg2fJ52wa',\n",
       " 'https://fumdrive.um.ac.ir/index.php/s/MP9fxdbpT86aqRX',\n",
       " 'https://fumdrive.um.ac.ir/index.php/s/4NpkyT8FryH2YSo',\n",
       " 'https://fumdrive.um.ac.ir/index.php/s/Gn2ixZTariKrY2E',\n",
       " 'https://fumdrive.um.ac.ir/index.php/s/ZHP2Wi98RQSieBz',\n",
       " 'https://fumdrive.um.ac.ir/index.php/s/NpzqQcbCfQeW5QX',\n",
       " 'https://fumdrive.um.ac.ir/index.php/s/4MoZdjJEKdpQ8ts',\n",
       " '-----------',\n",
       " 'https://fumdrive.um.ac.ir/index.php/s/SXpfFQLGPenC2gS',\n",
       " 'https://fumdrive.um.ac.ir/index.php/s/rtpnKTs4jwPtME8',\n",
       " 'https://fumdrive.um.ac.ir/index.php/s/3FqHw8fopp8Rnfr',\n",
       " 'https://fumdrive.um.ac.ir/index.php/s/3f9obq63naSWQE4',\n",
       " 'https://fumdrive.um.ac.ir/index.php/s/tH94RcYE5FLnsmJ',\n",
       " 'https://fumdrive.um.ac.ir/index.php/s/SLRw6pwi3zTDs4i',\n",
       " 'https://fumdrive.um.ac.ir/index.php/s/SmFm2dZTntDbyaG',\n",
       " '-----------',\n",
       " 'https://fumdrive.um.ac.ir/index.php/s/WZSgXDi72WSKr8B',\n",
       " 'https://fumdrive.um.ac.ir/index.php/s/4WWT3ZgfJd9pGFA',\n",
       " 'https://fumdrive.um.ac.ir/index.php/s/gkbcSp4zXy5RbaG',\n",
       " 'https://fumdrive.um.ac.ir/index.php/s/8nJJjbKgKHCgewg',\n",
       " '-----------',\n",
       " 'https://fumdrive.um.ac.ir/index.php/s/FCpiJKAWbKWtxLT',\n",
       " 'https://fumdrive.um.ac.ir/index.php/s/7mg8CJegCC4E6Hr',\n",
       " 'https://fumdrive.um.ac.ir/index.php/s/bwtwryQEt7JkkC2',\n",
       " 'https://fumdrive.um.ac.ir/index.php/s/gSkMfF9KjLzrXzg',\n",
       " '-----------',\n",
       " 'https://fumdrive.um.ac.ir/index.php/s/9kt5d6667JiqbzX',\n",
       " 'https://fumdrive.um.ac.ir/index.php/s/wPfnG3N7rH9Z8W2',\n",
       " 'https://fumdrive.um.ac.ir/index.php/s/oj9pXnwXbWQPbLb',\n",
       " 'https://fumdrive.um.ac.ir/index.php/s/Apcs6K63g4yGGW5',\n",
       " '-----------',\n",
       " 'https://fumdrive.um.ac.ir/index.php/s/djjeFdW22je2wDk',\n",
       " 'https://fumdrive.um.ac.ir/index.php/s/JZkKdcXRRedSWmb',\n",
       " 'https://fumdrive.um.ac.ir/index.php/s/btYF8ps8DTPHr4S',\n",
       " 'https://fumdrive.um.ac.ir/index.php/s/BeCtDs9p6yHHtWo',\n",
       " 'https://fumdrive.um.ac.ir/index.php/s/S2EA3W6ZwWrrfoa',\n",
       " 'https://fumdrive.um.ac.ir/index.php/s/enaTpBokGHTBe5B',\n",
       " 'https://fumdrive.um.ac.ir/index.php/s/zFp2CRxsGmJf2fb',\n",
       " 'https://fumdrive.um.ac.ir/index.php/s/sKRTZQddyLKpYnE',\n",
       " '-----------',\n",
       " 'https://fumdrive.um.ac.ir/index.php/s/TN8RZb4pjfAHfny',\n",
       " 'https://fumdrive.um.ac.ir/index.php/s/Sz9DeJsAo7sDknZ',\n",
       " 'https://fumdrive.um.ac.ir/index.php/s/w9Q4jZkmrHbEdXj',\n",
       " 'https://fumdrive.um.ac.ir/index.php/s/pZJScACGgEr9oKE',\n",
       " 'https://fumdrive.um.ac.ir/index.php/s/fCyXF2RSLNxfbwp',\n",
       " '-----------',\n",
       " 'https://fumdrive.um.ac.ir/index.php/s/pQDWdeJATM8NGLw',\n",
       " 'https://fumdrive.um.ac.ir/index.php/s/RkEcT3AEtL2WX4F',\n",
       " 'https://fumdrive.um.ac.ir/index.php/s/5NwNMYHdbSCZptQ',\n",
       " 'https://fumdrive.um.ac.ir/index.php/s/oRr5jx8WsTSKmnQ',\n",
       " 'https://fumdrive.um.ac.ir/index.php/s/Qsw2qyj3L5qdbyM',\n",
       " 'https://fumdrive.um.ac.ir/index.php/s/rbi9YSnKqP7beCF',\n",
       " 'https://fumdrive.um.ac.ir/index.php/s/DAewDGiZQ5Cry7Q',\n",
       " '-----------',\n",
       " 'https://fumdrive.um.ac.ir/index.php/s/dEaz4PCPSHpJqyT',\n",
       " 'https://fumdrive.um.ac.ir/index.php/s/PLgQpSnkRoo29F2',\n",
       " 'https://fumdrive.um.ac.ir/index.php/s/PXsSK28s6oBN4qN']"
      ]
     },
     "execution_count": 306,
     "metadata": {},
     "output_type": "execute_result"
    }
   ],
   "source": [
    "dod"
   ]
  },
  {
   "cell_type": "code",
   "execution_count": 309,
   "metadata": {},
   "outputs": [
    {
     "data": {
      "text/plain": [
       "12"
      ]
     },
     "execution_count": 309,
     "metadata": {},
     "output_type": "execute_result"
    }
   ],
   "source": [
    "len(pop)"
   ]
  }
 ],
 "metadata": {
  "kernelspec": {
   "display_name": "Python 3",
   "language": "python",
   "name": "python3"
  },
  "language_info": {
   "codemirror_mode": {
    "name": "ipython",
    "version": 3
   },
   "file_extension": ".py",
   "mimetype": "text/x-python",
   "name": "python",
   "nbconvert_exporter": "python",
   "pygments_lexer": "ipython3",
   "version": "3.10.7"
  },
  "orig_nbformat": 4
 },
 "nbformat": 4,
 "nbformat_minor": 2
}
